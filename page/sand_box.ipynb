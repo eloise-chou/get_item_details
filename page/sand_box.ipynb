{
 "cells": [
  {
   "cell_type": "code",
   "execution_count": 1,
   "metadata": {},
   "outputs": [],
   "source": [
    "import requests as rq\n",
    "import logging\n",
    "from functools import lru_cache"
   ]
  },
  {
   "cell_type": "code",
   "execution_count": 2,
   "metadata": {},
   "outputs": [],
   "source": [
    "logger = logging.getLogger('Shopee_API')\n",
    "API_URL = \"https://shopee.sg/api/v4/pdp/get_pc\""
   ]
  },
  {
   "cell_type": "code",
   "execution_count": null,
   "metadata": {},
   "outputs": [],
   "source": [
    "@cache\n",
    "def getFromItemShopID(shop, item): \n",
    "    …\n",
    "\n",
    "def call_api(shop, item, model):\n",
    "      models = getFromItemShopID(shop, item)\n",
    "      return models[xxx]"
   ]
  },
  {
   "cell_type": "code",
   "execution_count": 3,
   "metadata": {},
   "outputs": [],
   "source": [
    "my_headers = {\n",
    "'user-agent': 'Mozilla/5.0 (Windows NT 10.0; Win64; x64) AppleWebKit/537.36 (KHTML, like Gecko) Chrome/107.0.0.0 Safari/537.36',\n",
    "}\n",
    "\n",
    "params = (213615210, 9644320690)\n",
    "\n",
    "url = 'https://shopee.sg/api/v4/pdp/get_pc?shop_id=213615210&item_id=9644320690'\n",
    "\n",
    "req = rq.get(url, headers=my_headers)\n"
   ]
  },
  {
   "cell_type": "code",
   "execution_count": 4,
   "metadata": {},
   "outputs": [],
   "source": [
    "json = req.json()"
   ]
  },
  {
   "cell_type": "code",
   "execution_count": 5,
   "metadata": {},
   "outputs": [],
   "source": [
    "from model.request import get_model_list"
   ]
  },
  {
   "cell_type": "code",
   "execution_count": 6,
   "metadata": {},
   "outputs": [],
   "source": [
    "data = get_model_list(req.json())"
   ]
  },
  {
   "cell_type": "code",
   "execution_count": 7,
   "metadata": {},
   "outputs": [
    {
     "data": {
      "text/plain": [
       "[{'model_id': 77872638932, 'status': 1, 'stock': 2, 'price': 30.78},\n",
       " {'model_id': 74956846376, 'status': 1, 'stock': 1, 'price': 30.78},\n",
       " {'model_id': 74956846383, 'status': 1, 'stock': 3, 'price': 30.78},\n",
       " {'model_id': 77872638937, 'status': 1, 'stock': 3, 'price': 30.78},\n",
       " {'model_id': 77872638930, 'status': 1, 'stock': 3, 'price': 30.78},\n",
       " {'model_id': 77872638933, 'status': 1, 'stock': 5, 'price': 30.78},\n",
       " {'model_id': 77872638928, 'status': 1, 'stock': 3, 'price': 30.78},\n",
       " {'model_id': 77872638931, 'status': 1, 'stock': 0, 'price': 30.78},\n",
       " {'model_id': 77872638936, 'status': 1, 'stock': 5, 'price': 30.78},\n",
       " {'model_id': 74956846380, 'status': 1, 'stock': 0, 'price': 30.78},\n",
       " {'model_id': 74956846374, 'status': 1, 'stock': 3, 'price': 30.78},\n",
       " {'model_id': 74956846370, 'status': 1, 'stock': 5, 'price': 30.78},\n",
       " {'model_id': 77872638934, 'status': 1, 'stock': 3, 'price': 30.78},\n",
       " {'model_id': 77872638938, 'status': 1, 'stock': 3, 'price': 30.78},\n",
       " {'model_id': 77872638939, 'status': 1, 'stock': 3, 'price': 30.78},\n",
       " {'model_id': 77872638929, 'status': 1, 'stock': 3, 'price': 30.78},\n",
       " {'model_id': 77872638935, 'status': 1, 'stock': 4, 'price': 30.78},\n",
       " {'model_id': 74956846378, 'status': 1, 'stock': 2, 'price': 30.78}]"
      ]
     },
     "execution_count": 7,
     "metadata": {},
     "output_type": "execute_result"
    }
   ],
   "source": [
    "data"
   ]
  },
  {
   "cell_type": "code",
   "execution_count": 24,
   "metadata": {},
   "outputs": [
    {
     "data": {
      "text/plain": [
       "(74956846378, 1, 2, 30.78)"
      ]
     },
     "execution_count": 24,
     "metadata": {},
     "output_type": "execute_result"
    }
   ],
   "source": [
    "data = get_model_list(json)\n",
    "\n",
    "data"
   ]
  },
  {
   "cell_type": "code",
   "execution_count": 23,
   "metadata": {},
   "outputs": [
    {
     "data": {
      "text/plain": [
       "[{'model_id': 77872638932, 'status': 1, 'stock': 2, 'price': 30.78},\n",
       " {'model_id': 74956846376, 'status': 1, 'stock': 1, 'price': 30.78},\n",
       " {'model_id': 74956846383, 'status': 1, 'stock': 3, 'price': 30.78},\n",
       " {'model_id': 77872638937, 'status': 1, 'stock': 3, 'price': 30.78},\n",
       " {'model_id': 77872638930, 'status': 1, 'stock': 3, 'price': 30.78},\n",
       " {'model_id': 77872638933, 'status': 1, 'stock': 5, 'price': 30.78},\n",
       " {'model_id': 77872638928, 'status': 1, 'stock': 3, 'price': 30.78},\n",
       " {'model_id': 77872638931, 'status': 1, 'stock': 0, 'price': 30.78},\n",
       " {'model_id': 77872638936, 'status': 1, 'stock': 5, 'price': 30.78},\n",
       " {'model_id': 74956846380, 'status': 1, 'stock': 0, 'price': 30.78},\n",
       " {'model_id': 74956846374, 'status': 1, 'stock': 3, 'price': 30.78},\n",
       " {'model_id': 74956846370, 'status': 1, 'stock': 5, 'price': 30.78},\n",
       " {'model_id': 77872638934, 'status': 1, 'stock': 3, 'price': 30.78},\n",
       " {'model_id': 77872638938, 'status': 1, 'stock': 3, 'price': 30.78},\n",
       " {'model_id': 77872638939, 'status': 1, 'stock': 3, 'price': 30.78},\n",
       " {'model_id': 77872638929, 'status': 1, 'stock': 3, 'price': 30.78},\n",
       " {'model_id': 77872638935, 'status': 1, 'stock': 4, 'price': 30.78},\n",
       " {'model_id': 74956846378, 'status': 1, 'stock': 2, 'price': 30.78}]"
      ]
     },
     "execution_count": 23,
     "metadata": {},
     "output_type": "execute_result"
    }
   ],
   "source": [
    "model_info_list = []\n",
    "\n",
    "model_list = json['data']['item']['models']\n",
    "for model in model_list:\n",
    "    model_id = model['model_id']\n",
    "    model_status = model['status']\n",
    "    model_stock = model['stock']\n",
    "    model_price = model['price']\n",
    "    model_info = {\n",
    "        \"model_id\": model_id,\n",
    "        \"status\": model_status,\n",
    "        \"stock\": model_stock,\n",
    "        \"price\": model_price / 100_000\n",
    "    }\n",
    "    \n",
    "    model_info_list.append(model_info)\n",
    "model_info_list"
   ]
  },
  {
   "cell_type": "code",
   "execution_count": null,
   "metadata": {},
   "outputs": [],
   "source": []
  }
 ],
 "metadata": {
  "kernelspec": {
   "display_name": "anaconda_py311",
   "language": "python",
   "name": "python3"
  },
  "language_info": {
   "codemirror_mode": {
    "name": "ipython",
    "version": 3
   },
   "file_extension": ".py",
   "mimetype": "text/x-python",
   "name": "python",
   "nbconvert_exporter": "python",
   "pygments_lexer": "ipython3",
   "version": "3.11.4"
  },
  "orig_nbformat": 4
 },
 "nbformat": 4,
 "nbformat_minor": 2
}
